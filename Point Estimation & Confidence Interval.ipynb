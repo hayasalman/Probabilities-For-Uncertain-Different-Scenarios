{
 "cells": [
  {
   "cell_type": "code",
   "execution_count": 1,
   "id": "13989b1c",
   "metadata": {},
   "outputs": [],
   "source": [
    "import pandas as pd\n",
    "import numpy as np\n",
    "import random\n",
    "import warnings\n",
    "warnings.filterwarnings('ignore')\n",
    "import matplotlib.pyplot as plt  \n",
    "import seaborn as sns  \n",
    "%matplotlib inline\n",
    "\n",
    "np.random.seed(42)"
   ]
  },
  {
   "cell_type": "markdown",
   "id": "c68293d5",
   "metadata": {},
   "source": [
    "# **Applying Point Estimation**"
   ]
  },
  {
   "cell_type": "markdown",
   "id": "348afff1",
   "metadata": {},
   "source": [
    "Insurance company sampled the files from inherent defects department to come up with the following amounts (in thousands of SAR) of damages for 10 structural defect of buildings incidents:\n",
    "\n",
    "130, 55, 600, 100, 80, 150, 44, 580, 62, 123\n",
    "\n",
    "What is the estimate of the average amount of damage of structural defect in the buildings ?"
   ]
  },
  {
   "cell_type": "code",
   "execution_count": 2,
   "id": "3197333d",
   "metadata": {},
   "outputs": [
    {
     "data": {
      "text/plain": [
       "192.4"
      ]
     },
     "execution_count": 2,
     "metadata": {},
     "output_type": "execute_result"
    }
   ],
   "source": [
    "inherent_defects_sample = np.array([130, 55, 600, 100, 80, 150, 44, 580, 62, 123])\n",
    "\n",
    "x_bar = np.mean(inherent_defects_sample)\n",
    "x_bar"
   ]
  },
  {
   "cell_type": "markdown",
   "id": "281caef5",
   "metadata": {},
   "source": [
    "**Insight** \n",
    "\n",
    "- The estimate of the average amount of damages of structural defect in the buildings is : **192,000 SAR**\n",
    "\n",
    "- Usually, the point estimate of an unknown population parameter is the corresponding sample statistic."
   ]
  },
  {
   "cell_type": "markdown",
   "id": "4485212f",
   "metadata": {},
   "source": [
    "# **Applying Confidence Interval**"
   ]
  },
  {
   "cell_type": "markdown",
   "id": "b6d9032a",
   "metadata": {},
   "source": [
    "#### 1.**Let's see how the confidence interval is constructed for the population mean when std dev is known**\n",
    "\n",
    "The amount of water (in Liters) that an electric kettle can hold was examined for a random sample of 50 cups of water dispensed by a new kettle, the mean of the sample is found to be 1.5 L, it is known that the standard deviation from all the kettles of that manufacturer is 0.3 L, we will construct a 95% confidence interval for μ, the mean amount water for cups distributed by the new kettle."
   ]
  },
  {
   "cell_type": "code",
   "execution_count": 3,
   "id": "0262eca9",
   "metadata": {},
   "outputs": [
    {
     "data": {
      "text/plain": [
       "array([1.4, 1.6])"
      ]
     },
     "execution_count": 3,
     "metadata": {},
     "output_type": "execute_result"
    }
   ],
   "source": [
    "from scipy.stats import norm\n",
    "\n",
    "x_bar, sigma = 1.5, 0.3\n",
    "\n",
    "n = 50\n",
    "\n",
    "np.round(norm.interval(0.95, loc=x_bar, scale=sigma / np.sqrt(n)), 1)"
   ]
  },
  {
   "cell_type": "markdown",
   "id": "0e0c47bf",
   "metadata": {},
   "source": [
    "**Insight**\n",
    "\n",
    "95% of the time, the mean of amount for cups of water dispensed by the new kettle will be between 1.4 L and 1.6 L."
   ]
  },
  {
   "cell_type": "markdown",
   "id": "6d3f6f46",
   "metadata": {},
   "source": [
    "#### 2.**Let's see how the confidence interval is constructed for the population mean when std dev is unknown**\n",
    "\n",
    "The amount of water (in Liters) that an electric kettle can hold was examined for a random sample of 50 cups of water dispensed by a new kettle, the mean of the sample is found to be 1.5 L, it is known that the standard deviation from sample of the kettles of that manufacturer is 0.8 L, we will construct a 95% confidence interval for μ, the mean amount water for cups distributed by the new kettle."
   ]
  },
  {
   "cell_type": "code",
   "execution_count": 4,
   "id": "b0a094d6",
   "metadata": {},
   "outputs": [
    {
     "data": {
      "text/plain": [
       "array([1.3, 1.7])"
      ]
     },
     "execution_count": 4,
     "metadata": {},
     "output_type": "execute_result"
    }
   ],
   "source": [
    "from scipy.stats import t\n",
    "\n",
    "x_bar, s = 1.5, 0.8\n",
    "\n",
    "n = 50\n",
    "k = n - 1#degree of freedom\n",
    "\n",
    "np.round(t.interval(0.95, df=k, loc=x_bar, scale=s / np.sqrt(n)), 1)"
   ]
  },
  {
   "cell_type": "markdown",
   "id": "fd478163",
   "metadata": {},
   "source": [
    "**Insight**\n",
    "\n",
    "95% of the time, the mean of amount for cups of water dispensed by the new kettle will be between 1.3 L and 1.7 L."
   ]
  }
 ],
 "metadata": {
  "kernelspec": {
   "display_name": "Python 3 (ipykernel)",
   "language": "python",
   "name": "python3"
  },
  "language_info": {
   "codemirror_mode": {
    "name": "ipython",
    "version": 3
   },
   "file_extension": ".py",
   "mimetype": "text/x-python",
   "name": "python",
   "nbconvert_exporter": "python",
   "pygments_lexer": "ipython3",
   "version": "3.9.12"
  }
 },
 "nbformat": 4,
 "nbformat_minor": 5
}
