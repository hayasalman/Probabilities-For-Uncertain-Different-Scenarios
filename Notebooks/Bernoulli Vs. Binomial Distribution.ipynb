{
 "cells": [
  {
   "cell_type": "code",
   "execution_count": 1,
   "id": "fe8edeb5",
   "metadata": {},
   "outputs": [],
   "source": [
    "import pandas as pd\n",
    "import numpy as np\n",
    "import random\n",
    "import warnings\n",
    "warnings.filterwarnings('ignore')\n",
    "import matplotlib.pyplot as plt  \n",
    "import seaborn as sns  \n",
    "%matplotlib inline\n",
    "\n",
    "np.random.seed(42)"
   ]
  },
  {
   "cell_type": "code",
   "execution_count": 2,
   "id": "dbe6f66e",
   "metadata": {},
   "outputs": [
    {
     "data": {
      "text/html": [
       "<div>\n",
       "<style scoped>\n",
       "    .dataframe tbody tr th:only-of-type {\n",
       "        vertical-align: middle;\n",
       "    }\n",
       "\n",
       "    .dataframe tbody tr th {\n",
       "        vertical-align: top;\n",
       "    }\n",
       "\n",
       "    .dataframe thead th {\n",
       "        text-align: right;\n",
       "    }\n",
       "</style>\n",
       "<table border=\"1\" class=\"dataframe\">\n",
       "  <thead>\n",
       "    <tr style=\"text-align: right;\">\n",
       "      <th></th>\n",
       "      <th>client_id</th>\n",
       "      <th>buyer/non-buyer</th>\n",
       "    </tr>\n",
       "  </thead>\n",
       "  <tbody>\n",
       "    <tr>\n",
       "      <th>0</th>\n",
       "      <td>1247</td>\n",
       "      <td>Buyer</td>\n",
       "    </tr>\n",
       "    <tr>\n",
       "      <th>1</th>\n",
       "      <td>1262</td>\n",
       "      <td>Buyer</td>\n",
       "    </tr>\n",
       "    <tr>\n",
       "      <th>2</th>\n",
       "      <td>1277</td>\n",
       "      <td>Buyer</td>\n",
       "    </tr>\n",
       "  </tbody>\n",
       "</table>\n",
       "</div>"
      ],
      "text/plain": [
       "   client_id buyer/non-buyer\n",
       "0       1247           Buyer\n",
       "1       1262           Buyer\n",
       "2       1277           Buyer"
      ]
     },
     "execution_count": 2,
     "metadata": {},
     "output_type": "execute_result"
    }
   ],
   "source": [
    "clients_data = pd.read_csv('clients_data.csv')\n",
    "clients_data.head(3)"
   ]
  },
  {
   "cell_type": "code",
   "execution_count": 3,
   "id": "89f99e52",
   "metadata": {},
   "outputs": [
    {
     "data": {
      "text/plain": [
       "Buyer        334\n",
       "Non-buyer    166\n",
       "Name: buyer/non-buyer, dtype: int64"
      ]
     },
     "execution_count": 3,
     "metadata": {},
     "output_type": "execute_result"
    }
   ],
   "source": [
    "clients_data['buyer/non-buyer'].value_counts()"
   ]
  },
  {
   "cell_type": "markdown",
   "id": "9a7ba56c",
   "metadata": {},
   "source": [
    "### **Finding the probabilities that associated with each group**\n",
    "\n",
    "let A be client being a buyer, and B client being non-buyer \n",
    "\n",
    "P(A) = Number of favorable outcomes/ total of the outcomes\n",
    "\n",
    "P(B) = 1 - P(A)"
   ]
  },
  {
   "cell_type": "code",
   "execution_count": 4,
   "id": "45ff6c8d",
   "metadata": {},
   "outputs": [
    {
     "data": {
      "text/plain": [
       "67"
      ]
     },
     "execution_count": 4,
     "metadata": {},
     "output_type": "execute_result"
    }
   ],
   "source": [
    "n_buyer = 334\n",
    "#the total number of outcomes is 500\n",
    "prob_buy = n_buyer/500\n",
    "#the probability of buyer\n",
    "round(prob_buy*100)"
   ]
  },
  {
   "cell_type": "code",
   "execution_count": 5,
   "id": "4eeb1aa9",
   "metadata": {},
   "outputs": [
    {
     "data": {
      "text/plain": [
       "33"
      ]
     },
     "execution_count": 5,
     "metadata": {},
     "output_type": "execute_result"
    }
   ],
   "source": [
    "prob_nonbuy = 1 - prob_buy\n",
    "#the probability of non-buyer\n",
    "round(prob_nonbuy*100)"
   ]
  },
  {
   "cell_type": "code",
   "execution_count": 6,
   "id": "e5125289",
   "metadata": {},
   "outputs": [
    {
     "data": {
      "text/plain": [
       "1.0"
      ]
     },
     "execution_count": 6,
     "metadata": {},
     "output_type": "execute_result"
    }
   ],
   "source": [
    "#sum of probabilities must equal 1 \n",
    "sum_of_probs = prob_buy + prob_nonbuy\n",
    "sum_of_probs"
   ]
  },
  {
   "cell_type": "markdown",
   "id": "b115e179",
   "metadata": {},
   "source": [
    "*The probability of new client being a buyer is : 67%*\n",
    "\n",
    "*The probability of new client being a non-buyer is : 33%*"
   ]
  },
  {
   "cell_type": "markdown",
   "id": "49599b71",
   "metadata": {},
   "source": [
    "# **Applying Bernoulli Distribution**\n",
    "\n",
    "*When we want to find the probability that the customer will turn into a buyer.*"
   ]
  },
  {
   "cell_type": "code",
   "execution_count": 7,
   "id": "953aeeac",
   "metadata": {},
   "outputs": [],
   "source": [
    "import scipy.stats as stats \n",
    "from scipy.stats import bernoulli"
   ]
  },
  {
   "cell_type": "code",
   "execution_count": 8,
   "id": "5862f7c3",
   "metadata": {},
   "outputs": [],
   "source": [
    "def bernoulli_func(p):\n",
    "    \"\"\"function that return a probability of only two\n",
    "    possible outcomes (success/failure)\n",
    "    of single trail, where here 0 = number of fails\n",
    "    and 1 is number of success\"\"\"\n",
    "    x = [0,1]\n",
    "    bernoulli_trail = bernoulli(p).pmf(x)\n",
    "    return bernoulli_trail"
   ]
  },
  {
   "cell_type": "code",
   "execution_count": 9,
   "id": "47b1e9bc",
   "metadata": {},
   "outputs": [
    {
     "data": {
      "text/plain": [
       "array([0.33, 0.67])"
      ]
     },
     "execution_count": 9,
     "metadata": {},
     "output_type": "execute_result"
    }
   ],
   "source": [
    "#our interest(event) to find out if new client will be a buyer \n",
    "bernoulli_func(0.67)"
   ]
  },
  {
   "cell_type": "code",
   "execution_count": 10,
   "id": "19a08242",
   "metadata": {},
   "outputs": [
    {
     "data": {
      "image/png": "[encoded data removed]",
      "text/plain": [
       "<Figure size 576x432 with 1 Axes>"
      ]
     },
     "metadata": {},
     "output_type": "display_data"
    }
   ],
   "source": [
    "plt.style.use('ggplot')\n",
    "\n",
    "labels = ['Non-buyer','Buyer']\n",
    "plt.figure(figsize=(8,6))\n",
    "plt.bar(labels, bernoulli_func(0.67), color='#CD5B45')\n",
    "\n",
    "plt.title('Bernoulli distribution (p=0.67)', fontsize='15')\n",
    "plt.ylabel('Probability', fontsize='15')\n",
    "\n",
    "plt.show()"
   ]
  },
  {
   "cell_type": "markdown",
   "id": "5ea1c919",
   "metadata": {},
   "source": [
    "**Conclusion** :\n",
    "\n",
    "There is a **67%** chance that the customer will turn into a buyer and that is what most likely will happen.."
   ]
  },
  {
   "cell_type": "markdown",
   "id": "c40a5942",
   "metadata": {},
   "source": [
    "# **Applying binomial distribution**\n",
    "\n",
    "*When we want to find the probablity for more than single client : buyer/non-buyer*"
   ]
  },
  {
   "cell_type": "markdown",
   "id": "d134d18c",
   "metadata": {},
   "source": [
    "**Assumptions of binomial distribution**\n",
    "- A fixed number of trials\n",
    "- Each trial is independent of the others\n",
    "- There are only two outcomes\n",
    "- The probability of each outcome remains constant from trial to trial."
   ]
  },
  {
   "cell_type": "code",
   "execution_count": 11,
   "id": "9e538ad7",
   "metadata": {},
   "outputs": [],
   "source": [
    "from scipy.stats import binom\n",
    "\n",
    "def binomial_func(n, p, k):\n",
    "    \"\"\" define a function that take a sample size(n)\n",
    "    , probability of success(p) and the random variable x or\n",
    "    sample space (k)to return the probability \n",
    "    of more than single trail\"\"\"\n",
    "    binomial_trails = binom.pmf(k=k, n=n, p=p)\n",
    "    return binomial_trails\n",
    "def binom_left_cumulative_func(k, n, p):\n",
    "    \"\"\"function that return the cumulative probability \n",
    "    at less than or as maximum of trails- left region of the distribution\"\"\"\n",
    "    cd = binom.cdf(k,n,p)\n",
    "    return cd*100\n",
    "def binom_right_cumulative_func(k, n, p):\n",
    "    \"\"\"function that return the cumulative probability \n",
    "    at more than or at least of trails - right region of the distribution\"\"\"\n",
    "    cd = 1 - binom.cdf(k,n,p)\n",
    "    return cd*100"
   ]
  },
  {
   "cell_type": "code",
   "execution_count": 12,
   "id": "a7cce35f",
   "metadata": {},
   "outputs": [
    {
     "data": {
      "text/plain": [
       "array([7.10221782e-49, 1.44196544e-46])"
      ]
     },
     "execution_count": 12,
     "metadata": {},
     "output_type": "execute_result"
    }
   ],
   "source": [
    "binomial_func(100, 0.67, np.arange(0,101))[0:2]"
   ]
  },
  {
   "cell_type": "code",
   "execution_count": 13,
   "id": "80ec78e5",
   "metadata": {},
   "outputs": [
    {
     "data": {
      "image/png": "[encoded data removed]",
      "text/plain": [
       "<Figure size 576x432 with 1 Axes>"
      ]
     },
     "metadata": {},
     "output_type": "display_data"
    }
   ],
   "source": [
    "#in array results it's hard to tell which most likely will happen, so we need to visualize our results..plt.figure(figsize=(10,8))\n",
    "plt.figure(figsize=(8,6))\n",
    "plt.bar(np.arange(0,101), binomial_func(100, 0.67, np.arange(0,101)), color='#CD5B45')\n",
    "plt.xlim(45, 100)#ZOOM IN \n",
    "plt.title(\"Binomial: n=%i , p=%.2f\" % (100, 0.67), fontsize=15) \n",
    "plt.xlabel(\"Number of Successes\") \n",
    "plt.ylabel(\"Probability of Successes\") \n",
    "plt.show() "
   ]
  },
  {
   "cell_type": "markdown",
   "id": "877dac18",
   "metadata": {},
   "source": [
    "**Insights** :  \n",
    "\n",
    "- Poisson distribution: the binomial distribution approaches a normal distribution as the sample size increases. \n",
    "\n",
    "- There's a zero possibility that the customers who will become buyers will be less than 48 and more than 85 customers.\n",
    "\n",
    "- Out of 100 clients , what more likely will happen is the business will end up having approximately 66 buyers."
   ]
  },
  {
   "cell_type": "code",
   "execution_count": 14,
   "id": "657a8fd9",
   "metadata": {},
   "outputs": [
    {
     "data": {
      "text/plain": [
       "8.210617022593143"
      ]
     },
     "execution_count": 14,
     "metadata": {},
     "output_type": "execute_result"
    }
   ],
   "source": [
    "binomial_func(100, 0.67, np.arange(0,101))[66]*100"
   ]
  },
  {
   "cell_type": "code",
   "execution_count": 15,
   "id": "2b12c46a",
   "metadata": {},
   "outputs": [
    {
     "data": {
      "image/png": "[encoded data removed]",
      "text/plain": [
       "<Figure size 576x432 with 1 Axes>"
      ]
     },
     "metadata": {},
     "output_type": "display_data"
    }
   ],
   "source": [
    "plt.figure(figsize=(8,6))\n",
    "bar_chart = plt.bar(np.arange(0,101), binomial_func(100, 0.67, np.arange(0,101)), color='#CD5B45')\n",
    "plt.xlim(0, 100)\n",
    "plt.title(\"Binomial: n=%i , p=%.2f\" % (100, 0.67), fontsize=15) \n",
    "plt.xlabel(\"Number of Successes\") \n",
    "plt.ylabel(\"Probability of Successes\") \n",
    "for i in range(0, 70):\n",
    "    bar_chart[i].set_color('#8FBC8F')\n",
    "plt.show()"
   ]
  },
  {
   "cell_type": "code",
   "execution_count": 16,
   "id": "ee532b31",
   "metadata": {},
   "outputs": [
    {
     "data": {
      "text/plain": [
       "76.99435901428465"
      ]
     },
     "execution_count": 16,
     "metadata": {},
     "output_type": "execute_result"
    }
   ],
   "source": [
    "binom_left_cumulative_func(70, 100, 0.67)"
   ]
  },
  {
   "cell_type": "markdown",
   "id": "e620ea42",
   "metadata": {},
   "source": [
    "**Insight**: there's a **77%** chance that a maximum of 70 customers out of 100 will become buyers."
   ]
  },
  {
   "cell_type": "markdown",
   "id": "fe839fcf",
   "metadata": {},
   "source": [
    "### **The probability of having more than 65 (or at least 66) clients become a buyers**"
   ]
  },
  {
   "cell_type": "code",
   "execution_count": 17,
   "id": "ceff56d9",
   "metadata": {},
   "outputs": [
    {
     "data": {
      "text/plain": [
       "62.91543034642609"
      ]
     },
     "execution_count": 17,
     "metadata": {},
     "output_type": "execute_result"
    }
   ],
   "source": [
    "binom_right_cumulative_func(65, 100, 0.67)"
   ]
  },
  {
   "cell_type": "markdown",
   "id": "50c9cd3d",
   "metadata": {},
   "source": [
    "**Insight**: there's a **63%** chance that at least 66 clients out of 100 will become buyers."
   ]
  }
 ],
 "metadata": {
  "kernelspec": {
   "display_name": "Python 3 (ipykernel)",
   "language": "python",
   "name": "python3"
  },
  "language_info": {
   "codemirror_mode": {
    "name": "ipython",
    "version": 3
   },
   "file_extension": ".py",
   "mimetype": "text/x-python",
   "name": "python",
   "nbconvert_exporter": "python",
   "pygments_lexer": "ipython3",
   "version": "3.9.12"
  }
 },
 "nbformat": 4,
 "nbformat_minor": 5
}
